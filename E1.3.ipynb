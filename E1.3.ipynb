{
 "cells": [
  {
   "cell_type": "code",
   "execution_count": 10,
   "metadata": {},
   "outputs": [
    {
     "name": "stdout",
     "output_type": "stream",
     "text": [
      "51 90\n",
      "51 209\n",
      "51 321\n",
      "51 335\n",
      "51 349\n",
      "51 461\n",
      "51 475\n",
      "51 489\n",
      "51 722\n",
      "51 736\n",
      "51 862\n",
      "51 876\n",
      "65 90\n",
      "65 209\n",
      "65 321\n",
      "65 335\n",
      "65 349\n",
      "65 461\n",
      "65 475\n",
      "65 489\n",
      "65 722\n",
      "65 736\n",
      "65 862\n",
      "65 876\n",
      "79 90\n",
      "79 209\n",
      "79 321\n",
      "79 335\n",
      "79 349\n",
      "79 461\n",
      "79 475\n",
      "79 489\n",
      "79 722\n",
      "79 736\n",
      "79 862\n",
      "79 876\n"
     ]
    }
   ],
   "source": [
    "# This script was used to encrypt the flag.\n",
    "# This is the output of that run:\n",
    "# Enter key1: <REDACTED>\n",
    "# Enter key2: <REDACTED>\n",
    "# Enter message: <REDACTED>\n",
    "# Output: GDc>XpTTlPnWWWopngpNq\n",
    "\n",
    "import re\n",
    "\n",
    "alphabet = \"abcdefghijklmnopqrstuvwxyzABCDEFGHIJKLMNOPQRSTUVWXYZ0123456789{}>\"\n",
    "\n",
    "m = 'FLAG{}'\n",
    "\n",
    "# Prepare the output\n",
    "o = \"\"\n",
    "\n",
    "# Finding k1 and k2 values\n",
    "for i in range(0, 100):\n",
    "    for j in range(0, 1000):\n",
    "        k1 = int.from_bytes(bytes(str(i), 'utf-8'), byteorder='big')\n",
    "        k2 = int.from_bytes(bytes(str(j), 'utf-8'), byteorder='big')\n",
    "        o = ''\n",
    "        for c in m:\n",
    "            cy = alphabet.find(c) * k1 + k2\n",
    "            o += alphabet[cy % len(alphabet)]\n",
    "                \n",
    "            if o == 'GDc>Xq':\n",
    "                print(i, j)\n",
    "            "
   ]
  },
  {
   "cell_type": "code",
   "execution_count": 6,
   "metadata": {
    "scrolled": true
   },
   "outputs": [
    {
     "name": "stdout",
     "output_type": "stream",
     "text": [
      "{'p': 'a', 'V': 'b', 'o': 'c', 'U': 'd', 'n': 'e', 'T': 'f', 'm': 'g', 'S': 'h', 'l': 'i', 'R': 'j', 'k': 'k', 'Q': 'l', 'j': 'm', 'P': 'n', 'i': 'o', 'O': 'p', 'h': 'q', 'N': 'r', 'g': 's', 'M': 't', 'f': 'u', 'L': 'v', 'e': 'w', 'K': 'x', 'd': 'y', 'J': 'z', 'c': 'A', 'I': 'B', 'b': 'C', 'H': 'D', 'a': 'E', 'G': 'F', '>': 'G', 'F': 'H', '}': 'I', 'E': 'J', '{': 'K', 'D': 'L', '9': 'M', 'C': 'N', '8': 'O', 'B': 'P', '7': 'Q', 'A': 'R', '6': 'S', 'z': 'T', '5': 'U', 'y': 'V', '4': 'W', 'x': 'X', '3': 'Y', 'w': 'Z', '2': '0', 'v': '1', '1': '2', 'u': '3', '0': '4', 't': '5', 'Z': '6', 's': '7', 'Y': '8', 'r': '9', 'X': '{', 'q': '}', 'W': '>'}\n"
     ]
    }
   ],
   "source": [
    "k1 = '51'\n",
    "k2 = '90'\n",
    "m = 'abcdefghijklmnopqrstuvwxyzABCDEFGHIJKLMNOPQRSTUVWXYZ0123456789{}>'\n",
    "\n",
    "# Convert the keys to long integers\n",
    "k1 = int.from_bytes(bytes(k1, 'utf-8'), byteorder='big')\n",
    "k2 = int.from_bytes(bytes(k2, 'utf-8'), byteorder='big')\n",
    "\n",
    "temp_dct = {}\n",
    "\n",
    "# decrypted alphabets\n",
    "for c in m:\n",
    "    cy = alphabet.find(c) * k1 + k2\n",
    "    temp_dct[alphabet[cy % len(alphabet)]] = c\n",
    "\n",
    "print(temp_dct)"
   ]
  },
  {
   "cell_type": "code",
   "execution_count": 7,
   "metadata": {},
   "outputs": [
    {
     "name": "stdout",
     "output_type": "stream",
     "text": [
      "FLAG{affine>>>caesar}\n"
     ]
    }
   ],
   "source": [
    "encrypted_key = 'GDc>XpTTlPnWWWopngpNq'\n",
    "\n",
    "message = ''\n",
    "for key in encrypted_key:\n",
    "    message += temp_dct[key]\n",
    "    \n",
    "print(message)"
   ]
  }
 ],
 "metadata": {
  "kernelspec": {
   "display_name": "Python 3",
   "language": "python",
   "name": "python3"
  },
  "language_info": {
   "codemirror_mode": {
    "name": "ipython",
    "version": 3
   },
   "file_extension": ".py",
   "mimetype": "text/x-python",
   "name": "python",
   "nbconvert_exporter": "python",
   "pygments_lexer": "ipython3",
   "version": "3.7.3"
  }
 },
 "nbformat": 4,
 "nbformat_minor": 2
}
